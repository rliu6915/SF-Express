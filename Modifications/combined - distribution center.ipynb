{
 "cells": [
  {
   "cell_type": "code",
   "execution_count": 1,
   "id": "52157314",
   "metadata": {},
   "outputs": [],
   "source": [
    "import pyomo.environ as pe\n",
    "import pandas as pd\n",
    "import numpy as np"
   ]
  },
  {
   "cell_type": "markdown",
   "id": "967173d4",
   "metadata": {},
   "source": [
    "## Data Preparation"
   ]
  },
  {
   "cell_type": "code",
   "execution_count": 2,
   "id": "f1ba8d48",
   "metadata": {},
   "outputs": [],
   "source": [
    "D = pd.read_csv(\"Data\\d_matrix.csv\", index_col = 0)\n",
    "# g: distance with SFA\n",
    "adist = D.iloc[-2]\n",
    "\n",
    "# convert g to g'\n",
    "g = adist.apply(lambda x: max(5, x))"
   ]
  },
  {
   "cell_type": "code",
   "execution_count": 3,
   "id": "8f3bbdba",
   "metadata": {},
   "outputs": [],
   "source": [
    "D2 = pd.DataFrame()"
   ]
  },
  {
   "cell_type": "code",
   "execution_count": 4,
   "id": "a120fad0",
   "metadata": {},
   "outputs": [],
   "source": [
    "for i in D.columns:\n",
    "    D2[i] = D[i].apply(lambda x: max(x, 5) if x>0 else (-70/4.5 + 5))"
   ]
  },
  {
   "cell_type": "code",
   "execution_count": 9,
   "id": "6b4ce3bb",
   "metadata": {},
   "outputs": [],
   "source": [
    "D3 = pd.DataFrame()\n",
    "for i in D.columns:\n",
    "    D3[i] = D[i].apply(lambda x: max(x, 5) if x>0 else (-30/4 + 5))"
   ]
  },
  {
   "cell_type": "code",
   "execution_count": 5,
   "id": "5ad9c13d",
   "metadata": {},
   "outputs": [],
   "source": [
    "demand = pd.read_excel(\"Data\\demand.xlsx\", index_col = 0)\n",
    "\n",
    "d = demand.demand"
   ]
  },
  {
   "cell_type": "code",
   "execution_count": 10,
   "id": "75f3faf1",
   "metadata": {},
   "outputs": [],
   "source": [
    "a = pd.DataFrame(columns = d.index, index = d.index)\n",
    "\n",
    "for n in range(1, 21):\n",
    "    cname = \"cluster\" + str(n)\n",
    "    path = \"20abc\\\\\" + cname + \"result20bc_node.csv\"\n",
    "    result = pd.read_csv(path, index_col = 0)\n",
    "    nodes = result.index\n",
    "    for i in nodes:\n",
    "        for j in nodes:\n",
    "            a.loc[i][j] = result.loc[i][j]  "
   ]
  },
  {
   "cell_type": "code",
   "execution_count": 11,
   "id": "6039a22c",
   "metadata": {},
   "outputs": [],
   "source": [
    "demand_matrix = a.apply(lambda x: x*d)\n",
    "\n",
    "hub_d = demand_matrix.sum()\n",
    "hub_d = hub_d[hub_d > 0]"
   ]
  },
  {
   "cell_type": "code",
   "execution_count": 12,
   "id": "fc1a6998",
   "metadata": {},
   "outputs": [],
   "source": [
    "hubs = list(hub_d.index)"
   ]
  },
  {
   "cell_type": "code",
   "execution_count": 13,
   "id": "b5086acd",
   "metadata": {},
   "outputs": [
    {
     "data": {
      "text/plain": [
       "151"
      ]
     },
     "execution_count": 13,
     "metadata": {},
     "output_type": "execute_result"
    }
   ],
   "source": [
    "len(hubs)"
   ]
  },
  {
   "cell_type": "markdown",
   "id": "de535108",
   "metadata": {},
   "source": [
    "### Model"
   ]
  },
  {
   "cell_type": "code",
   "execution_count": 19,
   "id": "8a061df7",
   "metadata": {},
   "outputs": [],
   "source": [
    "def gsolver(node, d):\n",
    "    model1 = pe.ConcreteModel()\n",
    "    model1.x = pe.Var(node, node, domain = pe.Binary)\n",
    "    model1.y = pe.Var(node, domain = pe.Binary)\n",
    "    model1.a1 = pe.Var(node, domain=pe.NonNegativeIntegers)\n",
    "    model1.a2 = pe.Var(node, domain=pe.NonNegativeIntegers)\n",
    "    model1.b1 = pe.Var(node, domain=pe.NonNegativeIntegers)\n",
    "    model1.b2 = pe.Var(node, domain=pe.NonNegativeIntegers)\n",
    "\n",
    "    model1.costs = pe.Objective(expr = \n",
    "        sum(model1.x[i,j] * (70+ 4.5* (D2.loc[i,j]-5)) * model1.a2[i] for i in node for j in node) + \n",
    "        sum(model1.y[j] * (70+4.5*(g[j]-5)) * model1.a1[j] for j in node) +\n",
    "        sum(model1.x[i,j] * (30+ 4* (D3.loc[i,j]-5)) * model1.b2[i] for i in node for j in node) + \n",
    "        sum(model1.y[j] * (30+4*(g[j]-5)) * model1.b1[j] for j in node),\n",
    "        sense = pe.minimize)\n",
    "\n",
    "    # A node can only be assigned to a hub node\n",
    "        \n",
    "    def rule_1(mod, i, j):\n",
    "        return mod.x[i,j] <= mod.y[j]\n",
    "    model1.const1 = pe.Constraint(node, node, rule = rule_1)\n",
    "\n",
    "    # Each node is assigned to 1 and only 1 hub\n",
    "    def rule_2(mod, i):\n",
    "        return sum(mod.x[i, j] for j in node) == 1\n",
    "    model1.const2 = pe.Constraint(node, rule = rule_2)\n",
    "\n",
    "    # Number of Type A Vans -2\n",
    "    def rule_3(mod, i):\n",
    "        return 800 * mod.a2[i] + 200 * mod.b2[i]>= d[i]\n",
    "    model1.const3 = pe.Constraint(node, rule = rule_3)\n",
    "\n",
    "    # Number of Type A Vans\n",
    "    def rule_4(mod, j):\n",
    "        return 800 * mod.a1[j] + 200 * mod.b1[j]>= sum(mod.x[i,j] * d[i] for i in node)\n",
    "    model1.const4 = pe.Constraint(node, rule = rule_4)\n",
    "\n",
    "    time_limit = 10*60\n",
    "    solver = pe.SolverFactory('gurobi')\n",
    "    solver.options['TimeLimit'] = time_limit\n",
    "    result = solver.solve(model1, tee = True)\n",
    "    \n",
    "    return model1"
   ]
  },
  {
   "cell_type": "code",
   "execution_count": 15,
   "id": "9047d1d6",
   "metadata": {},
   "outputs": [],
   "source": [
    "def result(node,model1):\n",
    "    c = model1.costs()\n",
    "    c = round(c,2)\n",
    "    \n",
    "    hub = []\n",
    "    avan = []\n",
    "    for j in node:\n",
    "        if round(model1.y[j]()) == 1:\n",
    "            hub.append(j)\n",
    "            avan.append(model1.a1[j]())\n",
    "    hubs = pd.DataFrame({\"1st_Level\":hub, \"TypeA\":avan})\n",
    "    \n",
    "    df = pd.DataFrame(columns = node, index = node)\n",
    "    for i in node:\n",
    "        for j in node:\n",
    "            df.loc[i][j] = round(model1.x[i,j]())\n",
    "    \n",
    "    hubs.to_csv(\"first_level_ab.csv\", index = 0)\n",
    "    df.to_csv(\"second_level_ab.csv\")\n",
    "    \n",
    "    return c, hubs, df"
   ]
  },
  {
   "cell_type": "code",
   "execution_count": 20,
   "id": "8eb391b8",
   "metadata": {},
   "outputs": [
    {
     "name": "stdout",
     "output_type": "stream",
     "text": [
      "Using license file C:\\Users\\Yishu\\gurobi.lic\n",
      "Academic license - for non-commercial use only - expires 2021-07-20\n",
      "Read LP format model from file C:\\Users\\Yishu\\AppData\\Local\\Temp\\tmp68w369vn.pyomo.lp\n",
      "Reading time = 0.24 seconds\n",
      "x23557: 23255 rows, 23557 columns, 91809 nonzeros\n",
      "Changed value of parameter TimeLimit to 600.0\n",
      "   Prev: inf  Min: 0.0  Max: inf  Default: inf\n",
      "Gurobi Optimizer version 9.1.0 build v9.1.0rc0 (win64)\n",
      "Thread count: 8 physical cores, 16 logical processors, using up to 16 threads\n",
      "Optimize a model with 23255 rows, 23557 columns and 91809 nonzeros\n",
      "Model fingerprint: 0x54b6c296\n",
      "Model has 45602 quadratic objective terms\n",
      "Variable types: 1 continuous, 23556 integer (22952 binary)\n",
      "Coefficient statistics:\n",
      "  Matrix range     [1e+00, 8e+02]\n",
      "  Objective range  [0e+00, 0e+00]\n",
      "  QObjective range [6e+01, 7e+02]\n",
      "  Bounds range     [1e+00, 1e+00]\n",
      "  RHS range        [1e+00, 8e+02]\n",
      "Found heuristic solution: objective 1.699291e+14\n",
      "Presolve removed 1 rows and 1 columns\n",
      "Presolve time: 0.38s\n",
      "Presolved: 114458 rows, 160362 columns, 319818 nonzeros\n",
      "Presolved model has 91204 SOS constraint(s)\n",
      "Variable types: 0 continuous, 160362 integer (68554 binary)\n",
      "\n",
      "Deterministic concurrent LP optimizer: primal and dual simplex (primal and dual model)\n",
      "Showing first log only...\n",
      "\n",
      "Presolve removed 114458 rows and 160362 columns\n",
      "Presolve: All rows and columns removed\n",
      "Concurrent spin time: 0.25s\n",
      "\n",
      "Solved with primal simplex (primal model)\n",
      "\n",
      "Root relaxation: objective 0.000000e+00, 0 iterations, 0.56 seconds\n",
      "\n",
      "    Nodes    |    Current Node    |     Objective Bounds      |     Work\n",
      " Expl Unexpl |  Obj  Depth IntInf | Incumbent    BestBd   Gap | It/Node Time\n",
      "\n",
      "H    0     0                    1.699291e+14    0.00000   100%     -    1s\n",
      "H    0     0                    1.413063e+14    0.00000   100%     -    1s\n",
      "     0     0    0.00000    0  159 1.4131e+14    0.00000   100%     -    2s\n",
      "H    0     0                    1.413063e+14    0.00000   100%     -    2s\n",
      "H    0     0                    97911.436500    0.00000   100%     -    2s\n",
      "     0     0    0.00000    0  159 97911.4365    0.00000   100%     -    5s\n",
      "H    0     0                    69365.754000    0.00000   100%     -    6s\n",
      "H    0     0                    65187.292500    0.00000   100%     -    7s\n",
      "H    0     2                    63344.758000    0.00000   100%     -    8s\n",
      "     0     2    0.00000    0  159 63344.7580    0.00000   100%     -    8s\n",
      "H   31    40                    63009.938500    0.00000   100%  25.9   12s\n",
      "H   31    40                    46327.423000    0.00000   100%  25.9   12s\n",
      "H   36    40                    45931.247500    0.00000   100%  22.4   12s\n",
      "   151   232    0.00000   21  390 45931.2475    0.00000   100%   6.5   17s\n",
      "H  160   232                    42089.113500    0.00000   100%   6.2   17s\n",
      "H  170   232                    41787.254500    0.00000   100%   5.9   17s\n",
      "H  180   232                    41365.723000    0.00000   100%   5.6   17s\n",
      "   231   602    0.00000   31  370 41365.7230    0.00000   100%   4.7   23s\n",
      "   601  1103    0.00000   81  268 41365.7230    0.00000   100%   2.5   31s\n",
      "  1102  1369    0.00000  145  155 41365.7230    0.00000   100%   2.0   39s\n",
      "H 1165  1369                    41314.888500    0.00000   100%   2.7   39s\n",
      "H 1368  1585                    37763.420500    0.00000   100%   3.9   54s\n",
      "H 1382  1585                    35698.429000    0.00000   100%   4.5   54s\n",
      "  1584  2050    0.00000  167  158 35698.4290    0.00000   100%   9.6   66s\n",
      "  2049  2473   80.63800  196  183 35698.4290    0.00000   100%  20.1   78s\n",
      "H 2484  2695                    34992.970000    0.00000   100%  32.2   90s\n",
      "H 2505  2695                    34945.393500    0.00000   100%  33.1   90s\n",
      "  2706  3201    0.00000  231  225 34945.3935    0.00000   100%  36.8  106s\n",
      "  3212  3512  350.71700  256  219 34945.3935    0.00000   100%  44.0  119s\n",
      "H 3307  3512                    34752.291500    0.00000   100%  46.5  119s\n",
      "H 3464  3512                    33713.833500    0.00000   100%  47.6  119s\n",
      "H 3525  3881                    31903.120500    0.00000   100%  46.8  142s\n",
      "H 3560  3875                    31558.841500    0.00000   100%  48.2  142s\n",
      "H 3657  3869                    31191.767500    0.00000   100%  50.0  142s\n",
      "H 3707  3859                    30673.781500    0.00000   100%  51.6  142s\n",
      "  3963  4540    0.00000  288  154 30673.7815    0.00000   100%  50.6  159s\n",
      "H 4665  5363                    30600.928500    0.00000   100%  49.6  175s\n",
      "H 4779  5363                    30598.246500    0.00000   100%  48.5  175s\n",
      "H 4893  5363                    30547.322000    0.00000   100%  47.4  175s\n",
      "  5491  6123 12950.6971  436  152 30547.3220    0.00000   100%  44.3  192s\n",
      "H 5572  6122                    30524.084000    0.00000   100%  44.0  192s\n",
      "H 5779  6115                    30238.436000    0.00000   100%  42.5  192s\n",
      "  6263  6895 13473.9683  494  153 30238.4360    0.00000   100%  41.5  209s\n",
      "H 7099  7074                    30170.456500    0.00000   100%  38.9  246s\n",
      "H 7137  7065                    29894.297000    0.00000   100%  38.7  246s\n",
      "H 7159  7013                    28823.728500    0.00000   100%  38.8  246s\n",
      "  7314  7014 19406.0665  439    4 28823.7285    0.00000   100%  38.8  259s\n",
      "H 7315  6664                    28530.696000 9595.16250  66.4%  38.8  261s\n",
      "H 7316  6330                    28481.253000 9595.16250  66.3%  38.8  263s\n",
      "H 7316  6014                    28419.897500 9595.16250  66.2%  38.8  265s\n",
      "H 7316  5713                    28121.738000 9595.16250  65.9%  38.8  266s\n",
      "H 7316  5427                    27839.925500 9595.16250  65.5%  38.8  267s\n",
      "H 7317  5157                    27684.157000 9595.16250  65.3%  38.8  267s\n",
      "H 7317  4899                    27502.203000 9595.16250  65.1%  38.8  268s\n",
      "H 7318  4655                    27383.495000 9595.16250  65.0%  38.8  270s\n",
      "H 7319  4422                    27144.078000 9595.16250  64.7%  38.8  272s\n",
      "H 7320  4202                    27038.976000 9595.16250  64.5%  38.8  276s\n",
      "H 7320  3992                    26900.301500 9595.16250  64.3%  38.8  276s\n",
      "H 7321  3793                    26777.025000 9595.16250  64.2%  38.8  297s\n",
      "H 7321  3603                    26646.025000 9595.16250  64.0%  38.8  297s\n",
      "H 7321  3423                    26501.617000 9595.16250  63.8%  38.8  297s\n",
      "H 7321  3251                    26349.700500 9595.16250  63.6%  38.8  297s\n",
      "H 7321  3089                    26302.200500 9595.16250  63.5%  38.8  297s\n",
      "  7323  3090 13677.1310  319   10 26302.2005 9595.16250  63.5%  38.8  303s\n",
      "H 7324  2936                    26266.587500 9595.16250  63.5%  38.8  308s\n",
      "  7326  2937 9595.16250  111   11 26266.5875 9595.16250  63.5%  38.8  310s\n",
      "  7329  2939 9595.16250  153    5 26266.5875 9595.16250  63.5%  38.7  318s\n",
      "  7330  2940 21664.4817  467    3 26266.5875 9595.16250  63.5%  38.7  324s\n",
      "  7331  2940 9595.16250  293    5 26266.5875 9595.16250  63.5%  38.7  325s\n",
      "  7333  2942 14342.6811  409    5 26266.5875 9595.16250  63.5%  38.7  332s\n",
      "  7340  2955 9595.16250   18  155 26266.5875 9595.16250  63.5%  46.5  335s\n",
      "  7406  2999 9598.40700   22  155 26266.5875 9598.40700  63.5%  46.3  341s\n",
      "H 7410  2851                    26246.994500 9598.40700  63.4%  46.3  341s\n",
      "  7447  2880 9893.58700   25  154 26246.9945 9603.06000  63.4%  46.2  353s\n",
      "H 7449  2739                    26238.121000 9603.06000  63.4%  46.1  353s\n",
      "  7498  2774 9605.97600   28  155 26238.1210 9605.97600  63.4%  45.9  357s\n",
      "  7613  2875 9907.60000   36  154 26238.1210 9625.73100  63.3%  45.2  360s\n",
      "  7762  2965 9834.93400   45  154 26238.1210 9645.39150  63.2%  44.4  365s\n",
      "  7871  3038 9649.13550   52  155 26238.1210 9649.13550  63.2%  43.8  370s\n",
      "  8082  3203 9976.64800   66  154 26238.1210 9677.23350  63.1%  42.7  375s\n",
      "  8301  3359 9855.85900   80  154 26238.1210 9695.31000  63.0%  41.6  380s\n",
      "  8562  3551 9839.85250   96  154 26238.1210 9710.10150  63.0%  40.4  386s\n",
      "  8789  3721 9905.58850  110  154 26238.1210 9723.00300  62.9%  39.4  390s\n",
      "  9016  3831 9747.07350  123  155 26238.1210 9747.07350  62.9%  38.5  396s\n",
      "  9178  4004 9838.42150  133  154 26238.1210 9764.80350  62.8%  37.8  400s\n",
      "  9540  4259 9852.55150  153  154 26238.1210 9784.77000  62.7%  36.5  406s\n",
      "  9809  4449 9809.35350  171  154 26238.1210 9809.35350  62.6%  35.5  411s\n",
      " 10054  4608 9836.96100  187  154 26238.1210 9833.97100  62.5%  34.7  416s\n"
     ]
    },
    {
     "name": "stdout",
     "output_type": "stream",
     "text": [
      " 10363  4836 9945.86350  208  153 26238.1210 9833.97100  62.5%  33.7  422s\n",
      " 10535  4957 10164.8965  219  153 26238.1210 9833.97100  62.5%  33.2  425s\n",
      " 10887  5188 10149.6685  243  152 26238.1210 9833.97100  62.5%  32.2  431s\n",
      " 11225  5428 10221.6910  268  152 26238.1210 9833.97100  62.5%  31.2  437s\n",
      " 11415  5555 10120.5715  282  152 26238.1210 9833.97100  62.5%  30.8  441s\n",
      " 11809  5827 10124.8150  311  152 26238.1210 9833.97100  62.5%  29.8  448s\n",
      " 12008  5932 10023.9855  326  153 26238.1210 9833.97100  62.5%  29.3  452s\n",
      " 12186  6092 10047.4980  339  153 26238.1210 9833.97100  62.5%  28.9  457s\n",
      " 12413  6231 10209.0820  356  151 26238.1210 9833.97100  62.5%  28.4  461s\n",
      " 12641  6395 10099.2435  372  152 26238.1210 9833.97100  62.5%  27.9  465s\n",
      " 12897  6555 10123.7595  391  152 26238.1210 9833.97100  62.5%  27.4  470s\n",
      " 13145  6746 10282.9945  409  150 26238.1210 9833.97100  62.5%  26.9  476s\n",
      " 13419  6946 10269.9355  429  150 26238.1210 9833.97100  62.5%  26.4  482s\n",
      " 13710  7150 10214.9340  450  150 26238.1210 9833.97100  62.5%  25.9  487s\n",
      " 14011  7313 10255.6500  472  150 26238.1210 9833.97100  62.5%  25.3  492s\n",
      " 14274  7540 10397.4970  492  148 26238.1210 9833.97100  62.5%  24.9  497s\n",
      " 14595  7760 10620.1345  516  147 26238.1210 9833.97100  62.5%  24.4  503s\n",
      " 14928  7915 10361.4900  540  148 26238.1210 9833.97100  62.5%  23.9  510s\n",
      " 15194  8193 10397.2380  558  148 26238.1210 9833.97100  62.5%  23.5  516s\n",
      " 15561  8609 10421.1915  585  148 26238.1210 9833.97100  62.5%  23.0  523s\n",
      " 16027  9046 10569.9505  613  147 26238.1210 9833.97100  62.5%  22.3  531s\n",
      " 16464  9543 10566.5845  639  147 26238.1210 9833.97100  62.5%  21.8  538s\n",
      " 16961  9999 10535.7480  669  147 26238.1210 9833.97100  62.5%  21.2  546s\n",
      " 17417 10489 10585.2705  700  147 26238.1210 9833.97100  62.5%  20.7  554s\n",
      " 17907 10852 10627.3140  733  147 26238.1210 9833.97100  62.5%  20.1  563s\n",
      " 18270 10925 10836.6295  760  146 26238.1210 9833.97100  62.5%  19.8  575s\n",
      " 18343 11314 10685.6655  776  146 26238.1210 9833.97100  62.5%  19.7  585s\n",
      " 18732 11731 10910.1865  814  145 26238.1210 9833.97100  62.5%  19.3  595s\n",
      " 19149 11930 10796.2755  853  146 26238.1210 9833.97100  62.5%  18.9  600s\n",
      "\n",
      "Cutting planes:\n",
      "  MIR: 1\n",
      "\n",
      "Explored 19348 nodes (363112 simplex iterations) in 600.41 seconds\n",
      "Thread count was 16 (of 16 available processors)\n",
      "\n",
      "Solution count 10: 26238.1 26247 26266.6 ... 27039\n",
      "\n",
      "Time limit reached\n",
      "Best objective 2.623812100000e+04, best bound 9.833971000000e+03, gap 62.5203%\n",
      "WARNING: Loading a SolverResults object with an 'aborted' status, but\n",
      "    containing a solution\n",
      "Wall time: 10min 6s\n"
     ]
    }
   ],
   "source": [
    "%%time\n",
    "model1 = gsolver(hubs, hub_d)"
   ]
  },
  {
   "cell_type": "code",
   "execution_count": 18,
   "id": "e4cb92b6",
   "metadata": {},
   "outputs": [
    {
     "name": "stdout",
     "output_type": "stream",
     "text": [
      "26266.59\n"
     ]
    }
   ],
   "source": [
    "c, high, df = result(hubs, model1)\n",
    "print(c)"
   ]
  },
  {
   "cell_type": "code",
   "execution_count": null,
   "id": "a1a9bb9c",
   "metadata": {},
   "outputs": [],
   "source": []
  }
 ],
 "metadata": {
  "kernelspec": {
   "display_name": "Python [conda env:root] *",
   "language": "python",
   "name": "conda-root-py"
  },
  "language_info": {
   "codemirror_mode": {
    "name": "ipython",
    "version": 3
   },
   "file_extension": ".py",
   "mimetype": "text/x-python",
   "name": "python",
   "nbconvert_exporter": "python",
   "pygments_lexer": "ipython3",
   "version": "3.8.3"
  }
 },
 "nbformat": 4,
 "nbformat_minor": 5
}
